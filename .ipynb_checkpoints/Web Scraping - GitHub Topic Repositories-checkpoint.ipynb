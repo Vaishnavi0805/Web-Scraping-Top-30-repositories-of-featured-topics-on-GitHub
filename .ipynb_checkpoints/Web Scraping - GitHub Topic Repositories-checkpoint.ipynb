{
 "cells": [
  {
   "cell_type": "markdown",
   "id": "4979233a",
   "metadata": {},
   "source": [
    "## Pick a website and describe the objective\n",
    "\n",
    "- Browse through different sites and pick on to scrape.\n",
    "- Identify the information to scrape from the site. Decide the format of the output CSV file.\n",
    "- Summarize your project idea and outline your strategy."
   ]
  },
  {
   "cell_type": "markdown",
   "id": "149a6dc8",
   "metadata": {},
   "source": [
    "Road map:\n",
    "- Website used for scraping- https://github.com/topics\n",
    "- Collecting a list of topics and extrating the topic title, topic page URL and topic description for each topic.\n",
    "- We will be extracting top 30 repositories from the list of topics from the topic page.\n",
    "- We will be collecting repository name, username, stars and repository URL for each repository.\n",
    "- We will create a seperate CSV file for each topic in the below format -\n",
    "   \n",
    "   ```Repo Name,Username,Stars,Repo URL```\n"
   ]
  },
  {
   "cell_type": "markdown",
   "id": "454c410b",
   "metadata": {},
   "source": [
    "## Use the requests library to download the web pages"
   ]
  },
  {
   "cell_type": "code",
   "execution_count": 1,
   "id": "7b0c0714",
   "metadata": {},
   "outputs": [],
   "source": [
    "import requests"
   ]
  },
  {
   "cell_type": "code",
   "execution_count": 2,
   "id": "bbf6b96e",
   "metadata": {},
   "outputs": [],
   "source": [
    "topics_url=\"https://github.com/topics\""
   ]
  },
  {
   "cell_type": "code",
   "execution_count": 3,
   "id": "3a669b8e",
   "metadata": {},
   "outputs": [],
   "source": [
    "response = requests.get(topics_url)"
   ]
  },
  {
   "cell_type": "code",
   "execution_count": 4,
   "id": "e3c89bbc",
   "metadata": {},
   "outputs": [
    {
     "data": {
      "text/plain": [
       "200"
      ]
     },
     "execution_count": 4,
     "metadata": {},
     "output_type": "execute_result"
    }
   ],
   "source": [
    "response.status_code"
   ]
  },
  {
   "cell_type": "code",
   "execution_count": 5,
   "id": "ac3f6c3b",
   "metadata": {},
   "outputs": [
    {
     "data": {
      "text/plain": [
       "189827"
      ]
     },
     "execution_count": 5,
     "metadata": {},
     "output_type": "execute_result"
    }
   ],
   "source": [
    "len(response.text)"
   ]
  },
  {
   "cell_type": "code",
   "execution_count": 6,
   "id": "fcb43e69",
   "metadata": {},
   "outputs": [],
   "source": [
    "page_contents=response.text"
   ]
  },
  {
   "cell_type": "code",
   "execution_count": 7,
   "id": "0cfdc547",
   "metadata": {},
   "outputs": [
    {
     "data": {
      "text/plain": [
       "'\\n\\n<!DOCTYPE html>\\n<html lang=\"en\" data-color-mode=\"auto\" data-light-theme=\"light\" data-dark-theme=\"dark\">\\n  <head>\\n    <meta charset=\"utf-8\">\\n  <link rel=\"dns-prefetch\" href=\"https://github.githubassets.com\">\\n  <link rel=\"dns-prefetch\" href=\"https://avatars.githubusercontent.com\">\\n  <link rel=\"dns-prefetch\" href=\"https://github-cloud.s3.amazonaws.com\">\\n  <link rel=\"dns-prefetch\" href=\"https://user-images.githubusercontent.com/\">\\n  <link rel=\"preconnect\" href=\"https://github.githubassets.com\" crossorigin>\\n  <link rel=\"preconnect\" href=\"https://avatars.githubusercontent.com\">\\n\\n\\n\\n  <link crossorigin=\"anonymous\" media=\"all\" integrity=\"sha512-9M4GwJqBATCm6CMz2UrCo6uuX1/Wa8wUnm7N5BQhGHFch1oIX2y8dcpUXfnQVQ2HE2bD287O5YMXuc5jFAcU8w==\" rel=\"stylesheet\" href=\"https://github.githubassets.com/assets/light-f4ce06c09a810130a6e8.css\" /><link crossorigin=\"anonymous\" media=\"all\" integrity=\"sha512-BEwN74xxmv+L2zArQGm+kGVvX3bGY85LF4umkZnZ6Zl6IciYbr1IGxIYxqnUCW0RDEN1kM7glvXkpmQsntPVYQ==\" rel=\"stylesheet\" h'"
      ]
     },
     "execution_count": 7,
     "metadata": {},
     "output_type": "execute_result"
    }
   ],
   "source": [
    "page_contents[:1000]"
   ]
  },
  {
   "cell_type": "code",
   "execution_count": 8,
   "id": "46f291cf",
   "metadata": {},
   "outputs": [],
   "source": [
    "with open ('webpage.html','w',encoding=\"utf-8\") as f:\n",
    "    f.write(page_contents)"
   ]
  },
  {
   "cell_type": "markdown",
   "id": "3cf7eccf",
   "metadata": {},
   "source": [
    "## Use Beautiful Soup to parse and extract information."
   ]
  },
  {
   "cell_type": "code",
   "execution_count": 9,
   "id": "f4553c0f",
   "metadata": {},
   "outputs": [],
   "source": [
    "from bs4 import BeautifulSoup"
   ]
  },
  {
   "cell_type": "code",
   "execution_count": 10,
   "id": "91d86333",
   "metadata": {},
   "outputs": [],
   "source": [
    "doc = BeautifulSoup(page_contents, 'html.parser')"
   ]
  },
  {
   "cell_type": "code",
   "execution_count": 11,
   "id": "6179ce29",
   "metadata": {},
   "outputs": [
    {
     "data": {
      "text/plain": [
       "bs4.BeautifulSoup"
      ]
     },
     "execution_count": 11,
     "metadata": {},
     "output_type": "execute_result"
    }
   ],
   "source": [
    "type(doc)"
   ]
  },
  {
   "cell_type": "code",
   "execution_count": 12,
   "id": "818418e7",
   "metadata": {},
   "outputs": [],
   "source": [
    "title_class=\"f3 lh-condensed mb-0 mt-1 Link--primary\"\n",
    "topic_title_tags=doc.findAll('p',{'class':title_class})"
   ]
  },
  {
   "cell_type": "code",
   "execution_count": 13,
   "id": "d4af55d9",
   "metadata": {},
   "outputs": [
    {
     "data": {
      "text/plain": [
       "30"
      ]
     },
     "execution_count": 13,
     "metadata": {},
     "output_type": "execute_result"
    }
   ],
   "source": [
    "len(topic_title_tags)"
   ]
  },
  {
   "cell_type": "code",
   "execution_count": 14,
   "id": "75f060fc",
   "metadata": {},
   "outputs": [
    {
     "data": {
      "text/plain": [
       "[<p class=\"f3 lh-condensed mb-0 mt-1 Link--primary\">3D</p>,\n",
       " <p class=\"f3 lh-condensed mb-0 mt-1 Link--primary\">Ajax</p>,\n",
       " <p class=\"f3 lh-condensed mb-0 mt-1 Link--primary\">Algorithm</p>,\n",
       " <p class=\"f3 lh-condensed mb-0 mt-1 Link--primary\">Amp</p>,\n",
       " <p class=\"f3 lh-condensed mb-0 mt-1 Link--primary\">Android</p>]"
      ]
     },
     "execution_count": 14,
     "metadata": {},
     "output_type": "execute_result"
    }
   ],
   "source": [
    "topic_title_tags[:5]"
   ]
  },
  {
   "cell_type": "code",
   "execution_count": 15,
   "id": "54ff8b21",
   "metadata": {},
   "outputs": [],
   "source": [
    "desc_class=\"f5 color-fg-muted mb-0 mt-1\"\n",
    "topic_desc_tags=doc.findAll('p',{'class':desc_class})"
   ]
  },
  {
   "cell_type": "code",
   "execution_count": 16,
   "id": "7737444b",
   "metadata": {},
   "outputs": [
    {
     "data": {
      "text/plain": [
       "30"
      ]
     },
     "execution_count": 16,
     "metadata": {},
     "output_type": "execute_result"
    }
   ],
   "source": [
    "len(topic_desc_tags)"
   ]
  },
  {
   "cell_type": "code",
   "execution_count": 17,
   "id": "1258c497",
   "metadata": {
    "scrolled": true
   },
   "outputs": [
    {
     "data": {
      "text/plain": [
       "[<p class=\"f5 color-fg-muted mb-0 mt-1\">\n",
       "           3D modeling is the process of virtually developing the surface and structure of a 3D object.\n",
       "         </p>,\n",
       " <p class=\"f5 color-fg-muted mb-0 mt-1\">\n",
       "           Ajax is a technique for creating interactive web applications.\n",
       "         </p>,\n",
       " <p class=\"f5 color-fg-muted mb-0 mt-1\">\n",
       "           Algorithms are self-contained sequences that carry out a variety of tasks.\n",
       "         </p>,\n",
       " <p class=\"f5 color-fg-muted mb-0 mt-1\">\n",
       "           Amp is a non-blocking concurrency library for PHP.\n",
       "         </p>,\n",
       " <p class=\"f5 color-fg-muted mb-0 mt-1\">\n",
       "           Android is an operating system built by Google designed for mobile devices.\n",
       "         </p>]"
      ]
     },
     "execution_count": 17,
     "metadata": {},
     "output_type": "execute_result"
    }
   ],
   "source": [
    "topic_desc_tags[:5]"
   ]
  },
  {
   "cell_type": "code",
   "execution_count": 18,
   "id": "51e566a7",
   "metadata": {},
   "outputs": [],
   "source": [
    "topic_link_class=\"no-underline flex-1 d-flex flex-column\"\n",
    "\n",
    "topic_link_tags=doc.findAll('a',{'class':topic_link_class})"
   ]
  },
  {
   "cell_type": "code",
   "execution_count": 19,
   "id": "b370e995",
   "metadata": {},
   "outputs": [
    {
     "data": {
      "text/plain": [
       "30"
      ]
     },
     "execution_count": 19,
     "metadata": {},
     "output_type": "execute_result"
    }
   ],
   "source": [
    "len(topic_link_tags)"
   ]
  },
  {
   "cell_type": "code",
   "execution_count": 20,
   "id": "03eec81d",
   "metadata": {},
   "outputs": [
    {
     "data": {
      "text/plain": [
       "'/topics/3d'"
      ]
     },
     "execution_count": 20,
     "metadata": {},
     "output_type": "execute_result"
    }
   ],
   "source": [
    "topic_link_tags[0]['href']"
   ]
  },
  {
   "cell_type": "code",
   "execution_count": 21,
   "id": "317d48a4",
   "metadata": {},
   "outputs": [
    {
     "name": "stdout",
     "output_type": "stream",
     "text": [
      "https://github.com/topics/3d\n"
     ]
    }
   ],
   "source": [
    "topic0_url=\"https://github.com\"+ topic_link_tags[0]['href']\n",
    "print(topic0_url)"
   ]
  },
  {
   "cell_type": "code",
   "execution_count": 22,
   "id": "a3976bb3",
   "metadata": {},
   "outputs": [
    {
     "name": "stdout",
     "output_type": "stream",
     "text": [
      "['3D', 'Ajax', 'Algorithm', 'Amp', 'Android', 'Angular', 'Ansible', 'API', 'Arduino', 'ASP.NET', 'Atom', 'Awesome Lists', 'Amazon Web Services', 'Azure', 'Babel', 'Bash', 'Bitcoin', 'Bootstrap', 'Bot', 'C', 'Chrome', 'Chrome extension', 'Command line interface', 'Clojure', 'Code quality', 'Code review', 'Compiler', 'Continuous integration', 'COVID-19', 'C++']\n",
      "['3D modeling is the process of virtually developing the surface and structure of a 3D object.', 'Ajax is a technique for creating interactive web applications.', 'Algorithms are self-contained sequences that carry out a variety of tasks.', 'Amp is a non-blocking concurrency library for PHP.', 'Android is an operating system built by Google designed for mobile devices.']\n",
      "['https://github.com/topics/3d', 'https://github.com/topics/ajax', 'https://github.com/topics/algorithm', 'https://github.com/topics/amphp', 'https://github.com/topics/android', 'https://github.com/topics/angular', 'https://github.com/topics/ansible', 'https://github.com/topics/api', 'https://github.com/topics/arduino', 'https://github.com/topics/aspnet', 'https://github.com/topics/atom', 'https://github.com/topics/awesome', 'https://github.com/topics/aws', 'https://github.com/topics/azure', 'https://github.com/topics/babel', 'https://github.com/topics/bash', 'https://github.com/topics/bitcoin', 'https://github.com/topics/bootstrap', 'https://github.com/topics/bot', 'https://github.com/topics/c', 'https://github.com/topics/chrome', 'https://github.com/topics/chrome-extension', 'https://github.com/topics/cli', 'https://github.com/topics/clojure', 'https://github.com/topics/code-quality', 'https://github.com/topics/code-review', 'https://github.com/topics/compiler', 'https://github.com/topics/continuous-integration', 'https://github.com/topics/covid-19', 'https://github.com/topics/cpp']\n"
     ]
    }
   ],
   "source": [
    "topic_titles=[]\n",
    "\n",
    "for tag in topic_title_tags:\n",
    "    topic_titles.append(tag.text)\n",
    "\n",
    "print(topic_titles)\n",
    "topic_descriptions=[]\n",
    "\n",
    "for descriptions in topic_desc_tags:\n",
    "    topic_descriptions.append(descriptions.text.strip())\n",
    "    \n",
    "print(topic_descriptions[:5])\n",
    "topic_urls=[]\n",
    "base_url=\"https://github.com\"\n",
    "\n",
    "for urls in topic_link_tags:\n",
    "    topic_urls.append(base_url+urls['href'])\n",
    "    \n",
    "print(topic_urls)"
   ]
  },
  {
   "cell_type": "code",
   "execution_count": 23,
   "id": "9895574d",
   "metadata": {
    "scrolled": true
   },
   "outputs": [
    {
     "name": "stdout",
     "output_type": "stream",
     "text": [
      "['3D modeling is the process of virtually developing the surface and structure of a 3D object.', 'Ajax is a technique for creating interactive web applications.', 'Algorithms are self-contained sequences that carry out a variety of tasks.', 'Amp is a non-blocking concurrency library for PHP.', 'Android is an operating system built by Google designed for mobile devices.']\n"
     ]
    }
   ],
   "source": [
    "topic_descriptions=[]\n",
    "\n",
    "for descriptions in topic_desc_tags:\n",
    "    topic_descriptions.append(descriptions.text.strip())\n",
    "    \n",
    "print(topic_descriptions[:5])"
   ]
  },
  {
   "cell_type": "code",
   "execution_count": 24,
   "id": "7e5b07b9",
   "metadata": {
    "scrolled": true
   },
   "outputs": [
    {
     "name": "stdout",
     "output_type": "stream",
     "text": [
      "['https://github.com/topics/3d', 'https://github.com/topics/ajax', 'https://github.com/topics/algorithm', 'https://github.com/topics/amphp', 'https://github.com/topics/android', 'https://github.com/topics/angular', 'https://github.com/topics/ansible', 'https://github.com/topics/api', 'https://github.com/topics/arduino', 'https://github.com/topics/aspnet', 'https://github.com/topics/atom', 'https://github.com/topics/awesome', 'https://github.com/topics/aws', 'https://github.com/topics/azure', 'https://github.com/topics/babel', 'https://github.com/topics/bash', 'https://github.com/topics/bitcoin', 'https://github.com/topics/bootstrap', 'https://github.com/topics/bot', 'https://github.com/topics/c', 'https://github.com/topics/chrome', 'https://github.com/topics/chrome-extension', 'https://github.com/topics/cli', 'https://github.com/topics/clojure', 'https://github.com/topics/code-quality', 'https://github.com/topics/code-review', 'https://github.com/topics/compiler', 'https://github.com/topics/continuous-integration', 'https://github.com/topics/covid-19', 'https://github.com/topics/cpp']\n"
     ]
    }
   ],
   "source": [
    "topic_urls=[]\n",
    "base_url=\"https://github.com\"\n",
    "\n",
    "for urls in topic_link_tags:\n",
    "    topic_urls.append(base_url+urls['href'])\n",
    "    \n",
    "print(topic_urls)"
   ]
  },
  {
   "cell_type": "code",
   "execution_count": 25,
   "id": "3dff0f18",
   "metadata": {},
   "outputs": [],
   "source": [
    "import pandas as pd"
   ]
  },
  {
   "cell_type": "code",
   "execution_count": 26,
   "id": "479e6e7a",
   "metadata": {},
   "outputs": [],
   "source": [
    "topics_dict={'title':topic_titles,'description':topic_descriptions,'url':topic_urls}"
   ]
  },
  {
   "cell_type": "code",
   "execution_count": 27,
   "id": "144949fc",
   "metadata": {},
   "outputs": [],
   "source": [
    "topics_df=pd.DataFrame(topics_dict)"
   ]
  },
  {
   "cell_type": "code",
   "execution_count": 28,
   "id": "29d03478",
   "metadata": {
    "scrolled": true
   },
   "outputs": [
    {
     "data": {
      "text/html": [
       "<div>\n",
       "<style scoped>\n",
       "    .dataframe tbody tr th:only-of-type {\n",
       "        vertical-align: middle;\n",
       "    }\n",
       "\n",
       "    .dataframe tbody tr th {\n",
       "        vertical-align: top;\n",
       "    }\n",
       "\n",
       "    .dataframe thead th {\n",
       "        text-align: right;\n",
       "    }\n",
       "</style>\n",
       "<table border=\"1\" class=\"dataframe\">\n",
       "  <thead>\n",
       "    <tr style=\"text-align: right;\">\n",
       "      <th></th>\n",
       "      <th>title</th>\n",
       "      <th>description</th>\n",
       "      <th>url</th>\n",
       "    </tr>\n",
       "  </thead>\n",
       "  <tbody>\n",
       "    <tr>\n",
       "      <th>0</th>\n",
       "      <td>3D</td>\n",
       "      <td>3D modeling is the process of virtually develo...</td>\n",
       "      <td>https://github.com/topics/3d</td>\n",
       "    </tr>\n",
       "    <tr>\n",
       "      <th>1</th>\n",
       "      <td>Ajax</td>\n",
       "      <td>Ajax is a technique for creating interactive w...</td>\n",
       "      <td>https://github.com/topics/ajax</td>\n",
       "    </tr>\n",
       "    <tr>\n",
       "      <th>2</th>\n",
       "      <td>Algorithm</td>\n",
       "      <td>Algorithms are self-contained sequences that c...</td>\n",
       "      <td>https://github.com/topics/algorithm</td>\n",
       "    </tr>\n",
       "    <tr>\n",
       "      <th>3</th>\n",
       "      <td>Amp</td>\n",
       "      <td>Amp is a non-blocking concurrency library for ...</td>\n",
       "      <td>https://github.com/topics/amphp</td>\n",
       "    </tr>\n",
       "    <tr>\n",
       "      <th>4</th>\n",
       "      <td>Android</td>\n",
       "      <td>Android is an operating system built by Google...</td>\n",
       "      <td>https://github.com/topics/android</td>\n",
       "    </tr>\n",
       "  </tbody>\n",
       "</table>\n",
       "</div>"
      ],
      "text/plain": [
       "       title                                        description  \\\n",
       "0         3D  3D modeling is the process of virtually develo...   \n",
       "1       Ajax  Ajax is a technique for creating interactive w...   \n",
       "2  Algorithm  Algorithms are self-contained sequences that c...   \n",
       "3        Amp  Amp is a non-blocking concurrency library for ...   \n",
       "4    Android  Android is an operating system built by Google...   \n",
       "\n",
       "                                   url  \n",
       "0         https://github.com/topics/3d  \n",
       "1       https://github.com/topics/ajax  \n",
       "2  https://github.com/topics/algorithm  \n",
       "3      https://github.com/topics/amphp  \n",
       "4    https://github.com/topics/android  "
      ]
     },
     "execution_count": 28,
     "metadata": {},
     "output_type": "execute_result"
    }
   ],
   "source": [
    "topics_df.head(5)"
   ]
  },
  {
   "cell_type": "code",
   "execution_count": 29,
   "id": "98da94eb",
   "metadata": {},
   "outputs": [],
   "source": [
    "topics_df.to_csv('topics.csv',index=None)"
   ]
  },
  {
   "cell_type": "markdown",
   "id": "07d4a180",
   "metadata": {},
   "source": [
    "## Getting information out of a topic page"
   ]
  },
  {
   "cell_type": "code",
   "execution_count": 30,
   "id": "38389b12",
   "metadata": {},
   "outputs": [],
   "source": [
    "topic_page_url=topic_urls[0]"
   ]
  },
  {
   "cell_type": "code",
   "execution_count": 31,
   "id": "06720dd8",
   "metadata": {},
   "outputs": [
    {
     "name": "stdout",
     "output_type": "stream",
     "text": [
      "https://github.com/topics/3d\n"
     ]
    }
   ],
   "source": [
    "print(topic_page_url)"
   ]
  },
  {
   "cell_type": "code",
   "execution_count": 32,
   "id": "56cfa441",
   "metadata": {},
   "outputs": [],
   "source": [
    "response = requests.get(topic_page_url)"
   ]
  },
  {
   "cell_type": "code",
   "execution_count": 33,
   "id": "0f6241a4",
   "metadata": {},
   "outputs": [
    {
     "data": {
      "text/plain": [
       "200"
      ]
     },
     "execution_count": 33,
     "metadata": {},
     "output_type": "execute_result"
    }
   ],
   "source": [
    "response.status_code"
   ]
  },
  {
   "cell_type": "code",
   "execution_count": 34,
   "id": "05205a33",
   "metadata": {},
   "outputs": [
    {
     "data": {
      "text/plain": [
       "675798"
      ]
     },
     "execution_count": 34,
     "metadata": {},
     "output_type": "execute_result"
    }
   ],
   "source": [
    "len(response.text)"
   ]
  },
  {
   "cell_type": "code",
   "execution_count": 35,
   "id": "ada0588d",
   "metadata": {},
   "outputs": [],
   "source": [
    "topic_doc = BeautifulSoup(response.text, 'html.parser')"
   ]
  },
  {
   "cell_type": "code",
   "execution_count": 36,
   "id": "598c3d37",
   "metadata": {},
   "outputs": [],
   "source": [
    "h3_class=\"f3 color-fg-muted text-normal lh-condensed\"\n",
    "repo_tags=topic_doc.findAll('h3',{'class':h3_class})"
   ]
  },
  {
   "cell_type": "code",
   "execution_count": 37,
   "id": "79cff5c8",
   "metadata": {},
   "outputs": [
    {
     "data": {
      "text/plain": [
       "30"
      ]
     },
     "execution_count": 37,
     "metadata": {},
     "output_type": "execute_result"
    }
   ],
   "source": [
    "len(repo_tags)"
   ]
  },
  {
   "cell_type": "code",
   "execution_count": 38,
   "id": "9cc60750",
   "metadata": {},
   "outputs": [
    {
     "data": {
      "text/plain": [
       "<h3 class=\"f3 color-fg-muted text-normal lh-condensed\">\n",
       "<a data-ga-click=\"Explore, go to repository owner, location:explore feed\" data-hydro-click='{\"event_type\":\"explore.click\",\"payload\":{\"click_context\":\"REPOSITORY_CARD\",\"click_target\":\"OWNER\",\"click_visual_representation\":\"REPOSITORY_OWNER_HEADING\",\"actor_id\":null,\"record_id\":97088,\"originating_url\":\"https://github.com/topics/3d\",\"user_id\":null}}' data-hydro-click-hmac=\"4bdbc49d3c05ae7f70b531fbce709a384200b0768554e0172950286a8db30940\" data-view-component=\"true\" href=\"/mrdoob\">\n",
       "            mrdoob\n",
       "</a>          /\n",
       "          <a class=\"text-bold wb-break-word\" data-ga-click=\"Explore, go to repository, location:explore feed\" data-hydro-click='{\"event_type\":\"explore.click\",\"payload\":{\"click_context\":\"REPOSITORY_CARD\",\"click_target\":\"REPOSITORY\",\"click_visual_representation\":\"REPOSITORY_NAME_HEADING\",\"actor_id\":null,\"record_id\":576201,\"originating_url\":\"https://github.com/topics/3d\",\"user_id\":null}}' data-hydro-click-hmac=\"517d3d5cb9d89752156923904a4238816bc9b51ab7772f3e3644ce897d8dd4e5\" data-view-component=\"true\" href=\"/mrdoob/three.js\">\n",
       "            three.js\n",
       "</a> </h3>"
      ]
     },
     "execution_count": 38,
     "metadata": {},
     "output_type": "execute_result"
    }
   ],
   "source": [
    "repo_tags[0]"
   ]
  },
  {
   "cell_type": "code",
   "execution_count": 39,
   "id": "087673a4",
   "metadata": {},
   "outputs": [],
   "source": [
    "a_tags=repo_tags[0].findAll('a')"
   ]
  },
  {
   "cell_type": "code",
   "execution_count": 40,
   "id": "5a895a36",
   "metadata": {
    "scrolled": true
   },
   "outputs": [
    {
     "data": {
      "text/plain": [
       "[<a data-ga-click=\"Explore, go to repository owner, location:explore feed\" data-hydro-click='{\"event_type\":\"explore.click\",\"payload\":{\"click_context\":\"REPOSITORY_CARD\",\"click_target\":\"OWNER\",\"click_visual_representation\":\"REPOSITORY_OWNER_HEADING\",\"actor_id\":null,\"record_id\":97088,\"originating_url\":\"https://github.com/topics/3d\",\"user_id\":null}}' data-hydro-click-hmac=\"4bdbc49d3c05ae7f70b531fbce709a384200b0768554e0172950286a8db30940\" data-view-component=\"true\" href=\"/mrdoob\">\n",
       "             mrdoob\n",
       " </a>,\n",
       " <a class=\"text-bold wb-break-word\" data-ga-click=\"Explore, go to repository, location:explore feed\" data-hydro-click='{\"event_type\":\"explore.click\",\"payload\":{\"click_context\":\"REPOSITORY_CARD\",\"click_target\":\"REPOSITORY\",\"click_visual_representation\":\"REPOSITORY_NAME_HEADING\",\"actor_id\":null,\"record_id\":576201,\"originating_url\":\"https://github.com/topics/3d\",\"user_id\":null}}' data-hydro-click-hmac=\"517d3d5cb9d89752156923904a4238816bc9b51ab7772f3e3644ce897d8dd4e5\" data-view-component=\"true\" href=\"/mrdoob/three.js\">\n",
       "             three.js\n",
       " </a>]"
      ]
     },
     "execution_count": 40,
     "metadata": {},
     "output_type": "execute_result"
    }
   ],
   "source": [
    "a_tags"
   ]
  },
  {
   "cell_type": "code",
   "execution_count": 41,
   "id": "8cdb8b6c",
   "metadata": {},
   "outputs": [
    {
     "data": {
      "text/plain": [
       "'mrdoob'"
      ]
     },
     "execution_count": 41,
     "metadata": {},
     "output_type": "execute_result"
    }
   ],
   "source": [
    "a_tags[0].text.strip()"
   ]
  },
  {
   "cell_type": "code",
   "execution_count": 42,
   "id": "8c98edff",
   "metadata": {},
   "outputs": [
    {
     "data": {
      "text/plain": [
       "'three.js'"
      ]
     },
     "execution_count": 42,
     "metadata": {},
     "output_type": "execute_result"
    }
   ],
   "source": [
    "a_tags[1].text.strip()"
   ]
  },
  {
   "cell_type": "code",
   "execution_count": 43,
   "id": "c25d8cb9",
   "metadata": {},
   "outputs": [
    {
     "data": {
      "text/plain": [
       "'/mrdoob/three.js'"
      ]
     },
     "execution_count": 43,
     "metadata": {},
     "output_type": "execute_result"
    }
   ],
   "source": [
    "a_tags[1]['href']"
   ]
  },
  {
   "cell_type": "code",
   "execution_count": 44,
   "id": "0b5e94ad",
   "metadata": {},
   "outputs": [
    {
     "name": "stdout",
     "output_type": "stream",
     "text": [
      "https://github.com/mrdoob/three.js\n"
     ]
    }
   ],
   "source": [
    "base_url=\"https://github.com\"\n",
    "\n",
    "repo_url=base_url+a_tags[1]['href']\n",
    "print(repo_url)"
   ]
  },
  {
   "cell_type": "code",
   "execution_count": 45,
   "id": "05a710c1",
   "metadata": {},
   "outputs": [],
   "source": [
    "span_class=\"Counter js-social-count\"\n",
    "\n",
    "star_tags=topic_doc.findAll('span',{'class':span_class})"
   ]
  },
  {
   "cell_type": "code",
   "execution_count": 46,
   "id": "d73c471f",
   "metadata": {},
   "outputs": [
    {
     "data": {
      "text/plain": [
       "30"
      ]
     },
     "execution_count": 46,
     "metadata": {},
     "output_type": "execute_result"
    }
   ],
   "source": [
    "len(star_tags)"
   ]
  },
  {
   "cell_type": "code",
   "execution_count": 47,
   "id": "01b74832",
   "metadata": {},
   "outputs": [
    {
     "data": {
      "text/plain": [
       "<span aria-label=\"79426 users starred this repository\" class=\"Counter js-social-count\" data-pjax-replace=\"true\" data-plural-suffix=\"users starred this repository\" data-singular-suffix=\"user starred this repository\" data-view-component=\"true\" id=\"repo-stars-counter-star\" title=\"79,426\">79.4k</span>"
      ]
     },
     "execution_count": 47,
     "metadata": {},
     "output_type": "execute_result"
    }
   ],
   "source": [
    "star_tags[0]"
   ]
  },
  {
   "cell_type": "code",
   "execution_count": 48,
   "id": "10256f2d",
   "metadata": {},
   "outputs": [
    {
     "data": {
      "text/plain": [
       "'79.4k'"
      ]
     },
     "execution_count": 48,
     "metadata": {},
     "output_type": "execute_result"
    }
   ],
   "source": [
    "star_tag0=star_tags[0]\n",
    "star_tag0.text"
   ]
  },
  {
   "cell_type": "code",
   "execution_count": 67,
   "id": "da9eea3b",
   "metadata": {},
   "outputs": [
    {
     "data": {
      "text/plain": [
       "[<span aria-label=\"79426 users starred this repository\" class=\"Counter js-social-count\" data-pjax-replace=\"true\" data-plural-suffix=\"users starred this repository\" data-singular-suffix=\"user starred this repository\" data-view-component=\"true\" id=\"repo-stars-counter-star\" title=\"79,426\">79.4k</span>,\n",
       " <span aria-label=\"19685 users starred this repository\" class=\"Counter js-social-count\" data-pjax-replace=\"true\" data-plural-suffix=\"users starred this repository\" data-singular-suffix=\"user starred this repository\" data-view-component=\"true\" id=\"repo-stars-counter-star\" title=\"19,685\">19.7k</span>,\n",
       " <span aria-label=\"16935 users starred this repository\" class=\"Counter js-social-count\" data-pjax-replace=\"true\" data-plural-suffix=\"users starred this repository\" data-singular-suffix=\"user starred this repository\" data-view-component=\"true\" id=\"repo-stars-counter-star\" title=\"16,935\">16.9k</span>,\n",
       " <span aria-label=\"15997 users starred this repository\" class=\"Counter js-social-count\" data-pjax-replace=\"true\" data-plural-suffix=\"users starred this repository\" data-singular-suffix=\"user starred this repository\" data-view-component=\"true\" id=\"repo-stars-counter-star\" title=\"15,997\">16k</span>,\n",
       " <span aria-label=\"13837 users starred this repository\" class=\"Counter js-social-count\" data-pjax-replace=\"true\" data-plural-suffix=\"users starred this repository\" data-singular-suffix=\"user starred this repository\" data-view-component=\"true\" id=\"repo-stars-counter-star\" title=\"13,837\">13.8k</span>,\n",
       " <span aria-label=\"12293 users starred this repository\" class=\"Counter js-social-count\" data-pjax-replace=\"true\" data-plural-suffix=\"users starred this repository\" data-singular-suffix=\"user starred this repository\" data-view-component=\"true\" id=\"repo-stars-counter-star\" title=\"12,293\">12.3k</span>,\n",
       " <span aria-label=\"12151 users starred this repository\" class=\"Counter js-social-count\" data-pjax-replace=\"true\" data-plural-suffix=\"users starred this repository\" data-singular-suffix=\"user starred this repository\" data-view-component=\"true\" id=\"repo-stars-counter-star\" title=\"12,151\">12.2k</span>,\n",
       " <span aria-label=\"10778 users starred this repository\" class=\"Counter js-social-count\" data-pjax-replace=\"true\" data-plural-suffix=\"users starred this repository\" data-singular-suffix=\"user starred this repository\" data-view-component=\"true\" id=\"repo-stars-counter-star\" title=\"10,778\">10.8k</span>,\n",
       " <span aria-label=\"9020 users starred this repository\" class=\"Counter js-social-count\" data-pjax-replace=\"true\" data-plural-suffix=\"users starred this repository\" data-singular-suffix=\"user starred this repository\" data-view-component=\"true\" id=\"repo-stars-counter-star\" title=\"9,020\">9k</span>,\n",
       " <span aria-label=\"8305 users starred this repository\" class=\"Counter js-social-count\" data-pjax-replace=\"true\" data-plural-suffix=\"users starred this repository\" data-singular-suffix=\"user starred this repository\" data-view-component=\"true\" id=\"repo-stars-counter-star\" title=\"8,305\">8.3k</span>,\n",
       " <span aria-label=\"7655 users starred this repository\" class=\"Counter js-social-count\" data-pjax-replace=\"true\" data-plural-suffix=\"users starred this repository\" data-singular-suffix=\"user starred this repository\" data-view-component=\"true\" id=\"repo-stars-counter-star\" title=\"7,655\">7.7k</span>,\n",
       " <span aria-label=\"7060 users starred this repository\" class=\"Counter js-social-count\" data-pjax-replace=\"true\" data-plural-suffix=\"users starred this repository\" data-singular-suffix=\"user starred this repository\" data-view-component=\"true\" id=\"repo-stars-counter-star\" title=\"7,060\">7.1k</span>,\n",
       " <span aria-label=\"6230 users starred this repository\" class=\"Counter js-social-count\" data-pjax-replace=\"true\" data-plural-suffix=\"users starred this repository\" data-singular-suffix=\"user starred this repository\" data-view-component=\"true\" id=\"repo-stars-counter-star\" title=\"6,230\">6.2k</span>,\n",
       " <span aria-label=\"4871 users starred this repository\" class=\"Counter js-social-count\" data-pjax-replace=\"true\" data-plural-suffix=\"users starred this repository\" data-singular-suffix=\"user starred this repository\" data-view-component=\"true\" id=\"repo-stars-counter-star\" title=\"4,871\">4.9k</span>,\n",
       " <span aria-label=\"4819 users starred this repository\" class=\"Counter js-social-count\" data-pjax-replace=\"true\" data-plural-suffix=\"users starred this repository\" data-singular-suffix=\"user starred this repository\" data-view-component=\"true\" id=\"repo-stars-counter-star\" title=\"4,819\">4.8k</span>,\n",
       " <span aria-label=\"4766 users starred this repository\" class=\"Counter js-social-count\" data-pjax-replace=\"true\" data-plural-suffix=\"users starred this repository\" data-singular-suffix=\"user starred this repository\" data-view-component=\"true\" id=\"repo-stars-counter-star\" title=\"4,766\">4.8k</span>,\n",
       " <span aria-label=\"4638 users starred this repository\" class=\"Counter js-social-count\" data-pjax-replace=\"true\" data-plural-suffix=\"users starred this repository\" data-singular-suffix=\"user starred this repository\" data-view-component=\"true\" id=\"repo-stars-counter-star\" title=\"4,638\">4.6k</span>,\n",
       " <span aria-label=\"4579 users starred this repository\" class=\"Counter js-social-count\" data-pjax-replace=\"true\" data-plural-suffix=\"users starred this repository\" data-singular-suffix=\"user starred this repository\" data-view-component=\"true\" id=\"repo-stars-counter-star\" title=\"4,579\">4.6k</span>,\n",
       " <span aria-label=\"4565 users starred this repository\" class=\"Counter js-social-count\" data-pjax-replace=\"true\" data-plural-suffix=\"users starred this repository\" data-singular-suffix=\"user starred this repository\" data-view-component=\"true\" id=\"repo-stars-counter-star\" title=\"4,565\">4.6k</span>,\n",
       " <span aria-label=\"4540 users starred this repository\" class=\"Counter js-social-count\" data-pjax-replace=\"true\" data-plural-suffix=\"users starred this repository\" data-singular-suffix=\"user starred this repository\" data-view-component=\"true\" id=\"repo-stars-counter-star\" title=\"4,540\">4.5k</span>,\n",
       " <span aria-label=\"4405 users starred this repository\" class=\"Counter js-social-count\" data-pjax-replace=\"true\" data-plural-suffix=\"users starred this repository\" data-singular-suffix=\"user starred this repository\" data-view-component=\"true\" id=\"repo-stars-counter-star\" title=\"4,405\">4.4k</span>,\n",
       " <span aria-label=\"4055 users starred this repository\" class=\"Counter js-social-count\" data-pjax-replace=\"true\" data-plural-suffix=\"users starred this repository\" data-singular-suffix=\"user starred this repository\" data-view-component=\"true\" id=\"repo-stars-counter-star\" title=\"4,055\">4.1k</span>,\n",
       " <span aria-label=\"3996 users starred this repository\" class=\"Counter js-social-count\" data-pjax-replace=\"true\" data-plural-suffix=\"users starred this repository\" data-singular-suffix=\"user starred this repository\" data-view-component=\"true\" id=\"repo-stars-counter-star\" title=\"3,996\">4k</span>,\n",
       " <span aria-label=\"3824 users starred this repository\" class=\"Counter js-social-count\" data-pjax-replace=\"true\" data-plural-suffix=\"users starred this repository\" data-singular-suffix=\"user starred this repository\" data-view-component=\"true\" id=\"repo-stars-counter-star\" title=\"3,824\">3.8k</span>,\n",
       " <span aria-label=\"3438 users starred this repository\" class=\"Counter js-social-count\" data-pjax-replace=\"true\" data-plural-suffix=\"users starred this repository\" data-singular-suffix=\"user starred this repository\" data-view-component=\"true\" id=\"repo-stars-counter-star\" title=\"3,438\">3.4k</span>,\n",
       " <span aria-label=\"3378 users starred this repository\" class=\"Counter js-social-count\" data-pjax-replace=\"true\" data-plural-suffix=\"users starred this repository\" data-singular-suffix=\"user starred this repository\" data-view-component=\"true\" id=\"repo-stars-counter-star\" title=\"3,378\">3.4k</span>,\n",
       " <span aria-label=\"3191 users starred this repository\" class=\"Counter js-social-count\" data-pjax-replace=\"true\" data-plural-suffix=\"users starred this repository\" data-singular-suffix=\"user starred this repository\" data-view-component=\"true\" id=\"repo-stars-counter-star\" title=\"3,191\">3.2k</span>,\n",
       " <span aria-label=\"3179 users starred this repository\" class=\"Counter js-social-count\" data-pjax-replace=\"true\" data-plural-suffix=\"users starred this repository\" data-singular-suffix=\"user starred this repository\" data-view-component=\"true\" id=\"repo-stars-counter-star\" title=\"3,179\">3.2k</span>,\n",
       " <span aria-label=\"3136 users starred this repository\" class=\"Counter js-social-count\" data-pjax-replace=\"true\" data-plural-suffix=\"users starred this repository\" data-singular-suffix=\"user starred this repository\" data-view-component=\"true\" id=\"repo-stars-counter-star\" title=\"3,136\">3.1k</span>,\n",
       " <span aria-label=\"2765 users starred this repository\" class=\"Counter js-social-count\" data-pjax-replace=\"true\" data-plural-suffix=\"users starred this repository\" data-singular-suffix=\"user starred this repository\" data-view-component=\"true\" id=\"repo-stars-counter-star\" title=\"2,765\">2.8k</span>]"
      ]
     },
     "execution_count": 67,
     "metadata": {},
     "output_type": "execute_result"
    }
   ],
   "source": [
    "star_tags"
   ]
  },
  {
   "cell_type": "code",
   "execution_count": 50,
   "id": "dcd2d3c7",
   "metadata": {},
   "outputs": [],
   "source": [
    "def parse_star_count(stars_str):\n",
    "    stars_str=stars_str.text\n",
    "    if stars_str[-1]=='k':\n",
    "        return int(float(stars_str[:-1])*1000)\n",
    "    return int(stars_str[:-1])"
   ]
  },
  {
   "cell_type": "code",
   "execution_count": 69,
   "id": "222546ea",
   "metadata": {},
   "outputs": [
    {
     "data": {
      "text/plain": [
       "79400"
      ]
     },
     "execution_count": 69,
     "metadata": {},
     "output_type": "execute_result"
    }
   ],
   "source": [
    "parse_star_count(star_tag0)"
   ]
  },
  {
   "cell_type": "code",
   "execution_count": 52,
   "id": "bbe23879",
   "metadata": {},
   "outputs": [],
   "source": [
    "def get_repo_info(repo_tags,star_tags):\n",
    "    a_tags=repo_tags.findAll('a')\n",
    "    username=a_tags[0].text.strip()\n",
    "    repo_name=a_tags[1].text.strip()\n",
    "    repo_url=base_url+a_tags[1]['href']\n",
    "    stars=parse_star_count(star_tags)\n",
    "    return username,repo_name,stars,repo_url"
   ]
  },
  {
   "cell_type": "code",
   "execution_count": 53,
   "id": "36e6446a",
   "metadata": {},
   "outputs": [
    {
     "data": {
      "text/plain": [
       "('mrdoob', 'three.js', 79400, 'https://github.com/mrdoob/three.js')"
      ]
     },
     "execution_count": 53,
     "metadata": {},
     "output_type": "execute_result"
    }
   ],
   "source": [
    "get_repo_info(repo_tags[0],star_tag0)"
   ]
  },
  {
   "cell_type": "code",
   "execution_count": 54,
   "id": "a1d990ed",
   "metadata": {},
   "outputs": [],
   "source": [
    "topic_repo_dict={\n",
    "    'username':[],\n",
    "    'repo_name':[],\n",
    "    'stars':[],\n",
    "    'repo_url':[]\n",
    "}\n",
    "\n",
    "for i in range (len(repo_tags)):\n",
    "    repo_info=get_repo_info(repo_tags[i],star_tags[i])\n",
    "    topic_repo_dict['username'].append(repo_info[0])\n",
    "    topic_repo_dict['repo_name'].append(repo_info[1])\n",
    "    topic_repo_dict['stars'].append(repo_info[2])\n",
    "    topic_repo_dict['repo_url'].append(repo_info[3])\n"
   ]
  },
  {
   "cell_type": "code",
   "execution_count": 55,
   "id": "225e9e1b",
   "metadata": {},
   "outputs": [
    {
     "data": {
      "text/plain": [
       "{'username': ['mrdoob',\n",
       "  'libgdx',\n",
       "  'pmndrs',\n",
       "  'BabylonJS',\n",
       "  'aframevr',\n",
       "  'lettier',\n",
       "  'ssloy',\n",
       "  'FreeCAD',\n",
       "  'metafizzy',\n",
       "  'CesiumGS',\n",
       "  'timzhang642',\n",
       "  'a1studmuffin',\n",
       "  'isl-org',\n",
       "  'domlysz',\n",
       "  'blender',\n",
       "  'spritejs',\n",
       "  'openscad',\n",
       "  'tensorspace-team',\n",
       "  'jagenjo',\n",
       "  'YadiraF',\n",
       "  'AaronJackson',\n",
       "  'ssloy',\n",
       "  'google',\n",
       "  'mosra',\n",
       "  'gfxfundamentals',\n",
       "  'FyroxEngine',\n",
       "  'cleardusk',\n",
       "  'tengbao',\n",
       "  'jasonlong',\n",
       "  'cnr-isti-vclab'],\n",
       " 'repo_name': ['three.js',\n",
       "  'libgdx',\n",
       "  'react-three-fiber',\n",
       "  'Babylon.js',\n",
       "  'aframe',\n",
       "  '3d-game-shaders-for-beginners',\n",
       "  'tinyrenderer',\n",
       "  'FreeCAD',\n",
       "  'zdog',\n",
       "  'cesium',\n",
       "  '3D-Machine-Learning',\n",
       "  'SpaceshipGenerator',\n",
       "  'Open3D',\n",
       "  'BlenderGIS',\n",
       "  'blender',\n",
       "  'spritejs',\n",
       "  'openscad',\n",
       "  'tensorspace',\n",
       "  'webglstudio.js',\n",
       "  'PRNet',\n",
       "  'vrn',\n",
       "  'tinyraytracer',\n",
       "  'model-viewer',\n",
       "  'magnum',\n",
       "  'webgl-fundamentals',\n",
       "  'Fyrox',\n",
       "  '3DDFA',\n",
       "  'vanta',\n",
       "  'isometric-contributions',\n",
       "  'meshlab'],\n",
       " 'stars': [79400,\n",
       "  19700,\n",
       "  16900,\n",
       "  16000,\n",
       "  13800,\n",
       "  12300,\n",
       "  12200,\n",
       "  10800,\n",
       "  9000,\n",
       "  8300,\n",
       "  7700,\n",
       "  7100,\n",
       "  6200,\n",
       "  4900,\n",
       "  4800,\n",
       "  4800,\n",
       "  4600,\n",
       "  4600,\n",
       "  4600,\n",
       "  4500,\n",
       "  4400,\n",
       "  4100,\n",
       "  4000,\n",
       "  3800,\n",
       "  3400,\n",
       "  3400,\n",
       "  3200,\n",
       "  3200,\n",
       "  3100,\n",
       "  2800],\n",
       " 'repo_url': ['https://github.com/mrdoob/three.js',\n",
       "  'https://github.com/libgdx/libgdx',\n",
       "  'https://github.com/pmndrs/react-three-fiber',\n",
       "  'https://github.com/BabylonJS/Babylon.js',\n",
       "  'https://github.com/aframevr/aframe',\n",
       "  'https://github.com/lettier/3d-game-shaders-for-beginners',\n",
       "  'https://github.com/ssloy/tinyrenderer',\n",
       "  'https://github.com/FreeCAD/FreeCAD',\n",
       "  'https://github.com/metafizzy/zdog',\n",
       "  'https://github.com/CesiumGS/cesium',\n",
       "  'https://github.com/timzhang642/3D-Machine-Learning',\n",
       "  'https://github.com/a1studmuffin/SpaceshipGenerator',\n",
       "  'https://github.com/isl-org/Open3D',\n",
       "  'https://github.com/domlysz/BlenderGIS',\n",
       "  'https://github.com/blender/blender',\n",
       "  'https://github.com/spritejs/spritejs',\n",
       "  'https://github.com/openscad/openscad',\n",
       "  'https://github.com/tensorspace-team/tensorspace',\n",
       "  'https://github.com/jagenjo/webglstudio.js',\n",
       "  'https://github.com/YadiraF/PRNet',\n",
       "  'https://github.com/AaronJackson/vrn',\n",
       "  'https://github.com/ssloy/tinyraytracer',\n",
       "  'https://github.com/google/model-viewer',\n",
       "  'https://github.com/mosra/magnum',\n",
       "  'https://github.com/gfxfundamentals/webgl-fundamentals',\n",
       "  'https://github.com/FyroxEngine/Fyrox',\n",
       "  'https://github.com/cleardusk/3DDFA',\n",
       "  'https://github.com/tengbao/vanta',\n",
       "  'https://github.com/jasonlong/isometric-contributions',\n",
       "  'https://github.com/cnr-isti-vclab/meshlab']}"
      ]
     },
     "execution_count": 55,
     "metadata": {},
     "output_type": "execute_result"
    }
   ],
   "source": [
    "topic_repo_dict"
   ]
  },
  {
   "cell_type": "code",
   "execution_count": 56,
   "id": "e0dc639a",
   "metadata": {},
   "outputs": [],
   "source": [
    "topic_repos_df=pd.DataFrame(topic_repo_dict)"
   ]
  },
  {
   "cell_type": "code",
   "execution_count": 57,
   "id": "dfaafeb1",
   "metadata": {},
   "outputs": [
    {
     "data": {
      "text/html": [
       "<div>\n",
       "<style scoped>\n",
       "    .dataframe tbody tr th:only-of-type {\n",
       "        vertical-align: middle;\n",
       "    }\n",
       "\n",
       "    .dataframe tbody tr th {\n",
       "        vertical-align: top;\n",
       "    }\n",
       "\n",
       "    .dataframe thead th {\n",
       "        text-align: right;\n",
       "    }\n",
       "</style>\n",
       "<table border=\"1\" class=\"dataframe\">\n",
       "  <thead>\n",
       "    <tr style=\"text-align: right;\">\n",
       "      <th></th>\n",
       "      <th>username</th>\n",
       "      <th>repo_name</th>\n",
       "      <th>stars</th>\n",
       "      <th>repo_url</th>\n",
       "    </tr>\n",
       "  </thead>\n",
       "  <tbody>\n",
       "    <tr>\n",
       "      <th>0</th>\n",
       "      <td>mrdoob</td>\n",
       "      <td>three.js</td>\n",
       "      <td>79400</td>\n",
       "      <td>https://github.com/mrdoob/three.js</td>\n",
       "    </tr>\n",
       "    <tr>\n",
       "      <th>1</th>\n",
       "      <td>libgdx</td>\n",
       "      <td>libgdx</td>\n",
       "      <td>19700</td>\n",
       "      <td>https://github.com/libgdx/libgdx</td>\n",
       "    </tr>\n",
       "    <tr>\n",
       "      <th>2</th>\n",
       "      <td>pmndrs</td>\n",
       "      <td>react-three-fiber</td>\n",
       "      <td>16900</td>\n",
       "      <td>https://github.com/pmndrs/react-three-fiber</td>\n",
       "    </tr>\n",
       "    <tr>\n",
       "      <th>3</th>\n",
       "      <td>BabylonJS</td>\n",
       "      <td>Babylon.js</td>\n",
       "      <td>16000</td>\n",
       "      <td>https://github.com/BabylonJS/Babylon.js</td>\n",
       "    </tr>\n",
       "    <tr>\n",
       "      <th>4</th>\n",
       "      <td>aframevr</td>\n",
       "      <td>aframe</td>\n",
       "      <td>13800</td>\n",
       "      <td>https://github.com/aframevr/aframe</td>\n",
       "    </tr>\n",
       "    <tr>\n",
       "      <th>5</th>\n",
       "      <td>lettier</td>\n",
       "      <td>3d-game-shaders-for-beginners</td>\n",
       "      <td>12300</td>\n",
       "      <td>https://github.com/lettier/3d-game-shaders-for...</td>\n",
       "    </tr>\n",
       "    <tr>\n",
       "      <th>6</th>\n",
       "      <td>ssloy</td>\n",
       "      <td>tinyrenderer</td>\n",
       "      <td>12200</td>\n",
       "      <td>https://github.com/ssloy/tinyrenderer</td>\n",
       "    </tr>\n",
       "    <tr>\n",
       "      <th>7</th>\n",
       "      <td>FreeCAD</td>\n",
       "      <td>FreeCAD</td>\n",
       "      <td>10800</td>\n",
       "      <td>https://github.com/FreeCAD/FreeCAD</td>\n",
       "    </tr>\n",
       "    <tr>\n",
       "      <th>8</th>\n",
       "      <td>metafizzy</td>\n",
       "      <td>zdog</td>\n",
       "      <td>9000</td>\n",
       "      <td>https://github.com/metafizzy/zdog</td>\n",
       "    </tr>\n",
       "    <tr>\n",
       "      <th>9</th>\n",
       "      <td>CesiumGS</td>\n",
       "      <td>cesium</td>\n",
       "      <td>8300</td>\n",
       "      <td>https://github.com/CesiumGS/cesium</td>\n",
       "    </tr>\n",
       "    <tr>\n",
       "      <th>10</th>\n",
       "      <td>timzhang642</td>\n",
       "      <td>3D-Machine-Learning</td>\n",
       "      <td>7700</td>\n",
       "      <td>https://github.com/timzhang642/3D-Machine-Lear...</td>\n",
       "    </tr>\n",
       "    <tr>\n",
       "      <th>11</th>\n",
       "      <td>a1studmuffin</td>\n",
       "      <td>SpaceshipGenerator</td>\n",
       "      <td>7100</td>\n",
       "      <td>https://github.com/a1studmuffin/SpaceshipGener...</td>\n",
       "    </tr>\n",
       "    <tr>\n",
       "      <th>12</th>\n",
       "      <td>isl-org</td>\n",
       "      <td>Open3D</td>\n",
       "      <td>6200</td>\n",
       "      <td>https://github.com/isl-org/Open3D</td>\n",
       "    </tr>\n",
       "    <tr>\n",
       "      <th>13</th>\n",
       "      <td>domlysz</td>\n",
       "      <td>BlenderGIS</td>\n",
       "      <td>4900</td>\n",
       "      <td>https://github.com/domlysz/BlenderGIS</td>\n",
       "    </tr>\n",
       "    <tr>\n",
       "      <th>14</th>\n",
       "      <td>blender</td>\n",
       "      <td>blender</td>\n",
       "      <td>4800</td>\n",
       "      <td>https://github.com/blender/blender</td>\n",
       "    </tr>\n",
       "    <tr>\n",
       "      <th>15</th>\n",
       "      <td>spritejs</td>\n",
       "      <td>spritejs</td>\n",
       "      <td>4800</td>\n",
       "      <td>https://github.com/spritejs/spritejs</td>\n",
       "    </tr>\n",
       "    <tr>\n",
       "      <th>16</th>\n",
       "      <td>openscad</td>\n",
       "      <td>openscad</td>\n",
       "      <td>4600</td>\n",
       "      <td>https://github.com/openscad/openscad</td>\n",
       "    </tr>\n",
       "    <tr>\n",
       "      <th>17</th>\n",
       "      <td>tensorspace-team</td>\n",
       "      <td>tensorspace</td>\n",
       "      <td>4600</td>\n",
       "      <td>https://github.com/tensorspace-team/tensorspace</td>\n",
       "    </tr>\n",
       "    <tr>\n",
       "      <th>18</th>\n",
       "      <td>jagenjo</td>\n",
       "      <td>webglstudio.js</td>\n",
       "      <td>4600</td>\n",
       "      <td>https://github.com/jagenjo/webglstudio.js</td>\n",
       "    </tr>\n",
       "    <tr>\n",
       "      <th>19</th>\n",
       "      <td>YadiraF</td>\n",
       "      <td>PRNet</td>\n",
       "      <td>4500</td>\n",
       "      <td>https://github.com/YadiraF/PRNet</td>\n",
       "    </tr>\n",
       "    <tr>\n",
       "      <th>20</th>\n",
       "      <td>AaronJackson</td>\n",
       "      <td>vrn</td>\n",
       "      <td>4400</td>\n",
       "      <td>https://github.com/AaronJackson/vrn</td>\n",
       "    </tr>\n",
       "    <tr>\n",
       "      <th>21</th>\n",
       "      <td>ssloy</td>\n",
       "      <td>tinyraytracer</td>\n",
       "      <td>4100</td>\n",
       "      <td>https://github.com/ssloy/tinyraytracer</td>\n",
       "    </tr>\n",
       "    <tr>\n",
       "      <th>22</th>\n",
       "      <td>google</td>\n",
       "      <td>model-viewer</td>\n",
       "      <td>4000</td>\n",
       "      <td>https://github.com/google/model-viewer</td>\n",
       "    </tr>\n",
       "    <tr>\n",
       "      <th>23</th>\n",
       "      <td>mosra</td>\n",
       "      <td>magnum</td>\n",
       "      <td>3800</td>\n",
       "      <td>https://github.com/mosra/magnum</td>\n",
       "    </tr>\n",
       "    <tr>\n",
       "      <th>24</th>\n",
       "      <td>gfxfundamentals</td>\n",
       "      <td>webgl-fundamentals</td>\n",
       "      <td>3400</td>\n",
       "      <td>https://github.com/gfxfundamentals/webgl-funda...</td>\n",
       "    </tr>\n",
       "    <tr>\n",
       "      <th>25</th>\n",
       "      <td>FyroxEngine</td>\n",
       "      <td>Fyrox</td>\n",
       "      <td>3400</td>\n",
       "      <td>https://github.com/FyroxEngine/Fyrox</td>\n",
       "    </tr>\n",
       "    <tr>\n",
       "      <th>26</th>\n",
       "      <td>cleardusk</td>\n",
       "      <td>3DDFA</td>\n",
       "      <td>3200</td>\n",
       "      <td>https://github.com/cleardusk/3DDFA</td>\n",
       "    </tr>\n",
       "    <tr>\n",
       "      <th>27</th>\n",
       "      <td>tengbao</td>\n",
       "      <td>vanta</td>\n",
       "      <td>3200</td>\n",
       "      <td>https://github.com/tengbao/vanta</td>\n",
       "    </tr>\n",
       "    <tr>\n",
       "      <th>28</th>\n",
       "      <td>jasonlong</td>\n",
       "      <td>isometric-contributions</td>\n",
       "      <td>3100</td>\n",
       "      <td>https://github.com/jasonlong/isometric-contrib...</td>\n",
       "    </tr>\n",
       "    <tr>\n",
       "      <th>29</th>\n",
       "      <td>cnr-isti-vclab</td>\n",
       "      <td>meshlab</td>\n",
       "      <td>2800</td>\n",
       "      <td>https://github.com/cnr-isti-vclab/meshlab</td>\n",
       "    </tr>\n",
       "  </tbody>\n",
       "</table>\n",
       "</div>"
      ],
      "text/plain": [
       "            username                      repo_name  stars  \\\n",
       "0             mrdoob                       three.js  79400   \n",
       "1             libgdx                         libgdx  19700   \n",
       "2             pmndrs              react-three-fiber  16900   \n",
       "3          BabylonJS                     Babylon.js  16000   \n",
       "4           aframevr                         aframe  13800   \n",
       "5            lettier  3d-game-shaders-for-beginners  12300   \n",
       "6              ssloy                   tinyrenderer  12200   \n",
       "7            FreeCAD                        FreeCAD  10800   \n",
       "8          metafizzy                           zdog   9000   \n",
       "9           CesiumGS                         cesium   8300   \n",
       "10       timzhang642            3D-Machine-Learning   7700   \n",
       "11      a1studmuffin             SpaceshipGenerator   7100   \n",
       "12           isl-org                         Open3D   6200   \n",
       "13           domlysz                     BlenderGIS   4900   \n",
       "14           blender                        blender   4800   \n",
       "15          spritejs                       spritejs   4800   \n",
       "16          openscad                       openscad   4600   \n",
       "17  tensorspace-team                    tensorspace   4600   \n",
       "18           jagenjo                 webglstudio.js   4600   \n",
       "19           YadiraF                          PRNet   4500   \n",
       "20      AaronJackson                            vrn   4400   \n",
       "21             ssloy                  tinyraytracer   4100   \n",
       "22            google                   model-viewer   4000   \n",
       "23             mosra                         magnum   3800   \n",
       "24   gfxfundamentals             webgl-fundamentals   3400   \n",
       "25       FyroxEngine                          Fyrox   3400   \n",
       "26         cleardusk                          3DDFA   3200   \n",
       "27           tengbao                          vanta   3200   \n",
       "28         jasonlong        isometric-contributions   3100   \n",
       "29    cnr-isti-vclab                        meshlab   2800   \n",
       "\n",
       "                                             repo_url  \n",
       "0                  https://github.com/mrdoob/three.js  \n",
       "1                    https://github.com/libgdx/libgdx  \n",
       "2         https://github.com/pmndrs/react-three-fiber  \n",
       "3             https://github.com/BabylonJS/Babylon.js  \n",
       "4                  https://github.com/aframevr/aframe  \n",
       "5   https://github.com/lettier/3d-game-shaders-for...  \n",
       "6               https://github.com/ssloy/tinyrenderer  \n",
       "7                  https://github.com/FreeCAD/FreeCAD  \n",
       "8                   https://github.com/metafizzy/zdog  \n",
       "9                  https://github.com/CesiumGS/cesium  \n",
       "10  https://github.com/timzhang642/3D-Machine-Lear...  \n",
       "11  https://github.com/a1studmuffin/SpaceshipGener...  \n",
       "12                  https://github.com/isl-org/Open3D  \n",
       "13              https://github.com/domlysz/BlenderGIS  \n",
       "14                 https://github.com/blender/blender  \n",
       "15               https://github.com/spritejs/spritejs  \n",
       "16               https://github.com/openscad/openscad  \n",
       "17    https://github.com/tensorspace-team/tensorspace  \n",
       "18          https://github.com/jagenjo/webglstudio.js  \n",
       "19                   https://github.com/YadiraF/PRNet  \n",
       "20                https://github.com/AaronJackson/vrn  \n",
       "21             https://github.com/ssloy/tinyraytracer  \n",
       "22             https://github.com/google/model-viewer  \n",
       "23                    https://github.com/mosra/magnum  \n",
       "24  https://github.com/gfxfundamentals/webgl-funda...  \n",
       "25               https://github.com/FyroxEngine/Fyrox  \n",
       "26                 https://github.com/cleardusk/3DDFA  \n",
       "27                   https://github.com/tengbao/vanta  \n",
       "28  https://github.com/jasonlong/isometric-contrib...  \n",
       "29          https://github.com/cnr-isti-vclab/meshlab  "
      ]
     },
     "execution_count": 57,
     "metadata": {},
     "output_type": "execute_result"
    }
   ],
   "source": [
    "topic_repos_df"
   ]
  },
  {
   "cell_type": "code",
   "execution_count": 58,
   "id": "0b011418",
   "metadata": {},
   "outputs": [],
   "source": [
    "import os\n",
    "\n",
    "def get_topic_page(topic_url):\n",
    "    response = requests.get(topic_url)\n",
    "    if response.status_code != 200:\n",
    "        raise Exception(f'Failed to load page {topic_url}')\n",
    "    topic_doc=BeautifulSoup(response.text,'html.parser')\n",
    "    return topic_doc\n",
    "\n",
    "def get_repo_info(repo_tags,star_tags):\n",
    "    a_tags=repo_tags.findAll('a')\n",
    "    username=a_tags[0].text.strip()\n",
    "    repo_name=a_tags[1].text.strip()\n",
    "    repo_url=base_url+a_tags[1]['href']\n",
    "    stars=parse_star_count(star_tags)\n",
    "    return username,repo_name,stars,repo_url\n",
    "\n",
    "def get_topic_repos(topic_doc):\n",
    "    h3_class=\"f3 color-fg-muted text-normal lh-condensed\"\n",
    "    repo_tags=topic_doc.findAll('h3',{'class':h3_class})\n",
    "    \n",
    "    span_class=\"Counter js-social-count\"\n",
    "    star_tags=topic_doc.findAll('span',{'class':span_class})\n",
    "    \n",
    "    topic_repo_dict={\n",
    "        'username':[],\n",
    "        'repo_name':[],\n",
    "        'stars':[],\n",
    "        'repo_url':[]\n",
    "    }\n",
    "    \n",
    "    \n",
    "    for i in range (len(repo_tags)):\n",
    "        repo_info=get_repo_info(repo_tags[i],star_tags[i])\n",
    "        topic_repo_dict['username'].append(repo_info[0])\n",
    "        topic_repo_dict['repo_name'].append(repo_info[1])\n",
    "        topic_repo_dict['stars'].append(repo_info[2])\n",
    "        topic_repo_dict['repo_url'].append(repo_info[3])\n",
    "    \n",
    "    return pd.DataFrame(topic_repo_dict)\n",
    "\n",
    "def scrape_topic(topic_url,path):\n",
    "    if os.path.exists(path):\n",
    "        print(f\"The file {path} already exists. Skipping...\")\n",
    "        return\n",
    "    topic_df=get_topic_repos(get_topic_page(topic_url))\n",
    "    topic_df.to_csv(path, index=None)"
   ]
  },
  {
   "cell_type": "code",
   "execution_count": 59,
   "id": "196e8426",
   "metadata": {},
   "outputs": [],
   "source": [
    "get_topic_repos(get_topic_page(topic_urls[5])).to_csv(\"Angular.csv\")"
   ]
  },
  {
   "cell_type": "markdown",
   "id": "6242caf7",
   "metadata": {},
   "source": [
    "Write a single function to:\n",
    "1. Get the list of topics from the topics page.\n",
    "2. Get the list of top repos from the individual topic page\n",
    "3. For each topic create a csv of top repos for the topic"
   ]
  },
  {
   "cell_type": "code",
   "execution_count": 60,
   "id": "155068fe",
   "metadata": {},
   "outputs": [
    {
     "data": {
      "text/plain": [
       "['https://github.com/topics/3d',\n",
       " 'https://github.com/topics/ajax',\n",
       " 'https://github.com/topics/algorithm',\n",
       " 'https://github.com/topics/amphp',\n",
       " 'https://github.com/topics/android',\n",
       " 'https://github.com/topics/angular',\n",
       " 'https://github.com/topics/ansible',\n",
       " 'https://github.com/topics/api',\n",
       " 'https://github.com/topics/arduino',\n",
       " 'https://github.com/topics/aspnet',\n",
       " 'https://github.com/topics/atom',\n",
       " 'https://github.com/topics/awesome',\n",
       " 'https://github.com/topics/aws',\n",
       " 'https://github.com/topics/azure',\n",
       " 'https://github.com/topics/babel',\n",
       " 'https://github.com/topics/bash',\n",
       " 'https://github.com/topics/bitcoin',\n",
       " 'https://github.com/topics/bootstrap',\n",
       " 'https://github.com/topics/bot',\n",
       " 'https://github.com/topics/c',\n",
       " 'https://github.com/topics/chrome',\n",
       " 'https://github.com/topics/chrome-extension',\n",
       " 'https://github.com/topics/cli',\n",
       " 'https://github.com/topics/clojure',\n",
       " 'https://github.com/topics/code-quality',\n",
       " 'https://github.com/topics/code-review',\n",
       " 'https://github.com/topics/compiler',\n",
       " 'https://github.com/topics/continuous-integration',\n",
       " 'https://github.com/topics/covid-19',\n",
       " 'https://github.com/topics/cpp']"
      ]
     },
     "execution_count": 60,
     "metadata": {},
     "output_type": "execute_result"
    }
   ],
   "source": [
    "topic_urls"
   ]
  },
  {
   "cell_type": "code",
   "execution_count": 61,
   "id": "dc9ce9b3",
   "metadata": {},
   "outputs": [],
   "source": [
    "def get_topic_titles(doc):\n",
    "    title_class=\"f3 lh-condensed mb-0 mt-1 Link--primary\"\n",
    "    topic_title_tags=doc.find_all('p',{'class':title_class})\n",
    "    topic_titles=[]\n",
    "    for tag in topic_title_tags:\n",
    "        topic_titles.append(tag.text)\n",
    "    return topic_titles\n",
    "\n",
    "\n",
    "def get_topic_desc(doc):\n",
    "    desc_class=\"f5 color-fg-muted mb-0 mt-1\"\n",
    "    topic_desc_tags=doc.find_all('p',{'class':desc_class})\n",
    "    topic_descriptions=[]\n",
    "    for descriptions in topic_desc_tags:\n",
    "        topic_descriptions.append(descriptions.text.strip())\n",
    "    return topic_descriptions\n",
    "\n",
    "def get_topic_urls(doc):\n",
    "    topic_link_class=\"no-underline flex-1 d-flex flex-column\"\n",
    "    topic_link_tags=doc.findAll('a',{'class':topic_link_class})\n",
    "    topic_urls=[]\n",
    "    base_url=\"https://github.com\"\n",
    "    for urls in topic_link_tags:\n",
    "        topic_urls.append(base_url+urls['href'])\n",
    "    return topic_urls\n",
    "\n",
    "def scrape_topics():\n",
    "    topics_url='https://github.com/topics'\n",
    "    response=requests.get(topics_url)\n",
    "    if response.status_code != 200:\n",
    "        raise Exception (f'Failed to load page {topics_url}')\n",
    "    topics_dict={\n",
    "        'title':get_topic_titles(doc),\n",
    "        'description':get_topic_desc(doc),\n",
    "        'url':get_topic_urls(doc)\n",
    "    }\n",
    "    return pd.DataFrame(topics_dict)\n",
    "# def Scrape_topics_repos():\n",
    "#     topics_url='https://github.com/topics'\n",
    "    \n",
    "    \n"
   ]
  },
  {
   "cell_type": "code",
   "execution_count": 62,
   "id": "e35099b1",
   "metadata": {},
   "outputs": [
    {
     "data": {
      "text/html": [
       "<div>\n",
       "<style scoped>\n",
       "    .dataframe tbody tr th:only-of-type {\n",
       "        vertical-align: middle;\n",
       "    }\n",
       "\n",
       "    .dataframe tbody tr th {\n",
       "        vertical-align: top;\n",
       "    }\n",
       "\n",
       "    .dataframe thead th {\n",
       "        text-align: right;\n",
       "    }\n",
       "</style>\n",
       "<table border=\"1\" class=\"dataframe\">\n",
       "  <thead>\n",
       "    <tr style=\"text-align: right;\">\n",
       "      <th></th>\n",
       "      <th>title</th>\n",
       "      <th>description</th>\n",
       "      <th>url</th>\n",
       "    </tr>\n",
       "  </thead>\n",
       "  <tbody>\n",
       "    <tr>\n",
       "      <th>0</th>\n",
       "      <td>3D</td>\n",
       "      <td>3D modeling is the process of virtually develo...</td>\n",
       "      <td>https://github.com/topics/3d</td>\n",
       "    </tr>\n",
       "    <tr>\n",
       "      <th>1</th>\n",
       "      <td>Ajax</td>\n",
       "      <td>Ajax is a technique for creating interactive w...</td>\n",
       "      <td>https://github.com/topics/ajax</td>\n",
       "    </tr>\n",
       "    <tr>\n",
       "      <th>2</th>\n",
       "      <td>Algorithm</td>\n",
       "      <td>Algorithms are self-contained sequences that c...</td>\n",
       "      <td>https://github.com/topics/algorithm</td>\n",
       "    </tr>\n",
       "    <tr>\n",
       "      <th>3</th>\n",
       "      <td>Amp</td>\n",
       "      <td>Amp is a non-blocking concurrency library for ...</td>\n",
       "      <td>https://github.com/topics/amphp</td>\n",
       "    </tr>\n",
       "    <tr>\n",
       "      <th>4</th>\n",
       "      <td>Android</td>\n",
       "      <td>Android is an operating system built by Google...</td>\n",
       "      <td>https://github.com/topics/android</td>\n",
       "    </tr>\n",
       "    <tr>\n",
       "      <th>5</th>\n",
       "      <td>Angular</td>\n",
       "      <td>Angular is an open source web application plat...</td>\n",
       "      <td>https://github.com/topics/angular</td>\n",
       "    </tr>\n",
       "    <tr>\n",
       "      <th>6</th>\n",
       "      <td>Ansible</td>\n",
       "      <td>Ansible is a simple and powerful automation en...</td>\n",
       "      <td>https://github.com/topics/ansible</td>\n",
       "    </tr>\n",
       "    <tr>\n",
       "      <th>7</th>\n",
       "      <td>API</td>\n",
       "      <td>An API (Application Programming Interface) is ...</td>\n",
       "      <td>https://github.com/topics/api</td>\n",
       "    </tr>\n",
       "    <tr>\n",
       "      <th>8</th>\n",
       "      <td>Arduino</td>\n",
       "      <td>Arduino is an open source hardware and softwar...</td>\n",
       "      <td>https://github.com/topics/arduino</td>\n",
       "    </tr>\n",
       "    <tr>\n",
       "      <th>9</th>\n",
       "      <td>ASP.NET</td>\n",
       "      <td>ASP.NET is a web framework for building modern...</td>\n",
       "      <td>https://github.com/topics/aspnet</td>\n",
       "    </tr>\n",
       "    <tr>\n",
       "      <th>10</th>\n",
       "      <td>Atom</td>\n",
       "      <td>Atom is a open source text editor built with w...</td>\n",
       "      <td>https://github.com/topics/atom</td>\n",
       "    </tr>\n",
       "    <tr>\n",
       "      <th>11</th>\n",
       "      <td>Awesome Lists</td>\n",
       "      <td>An awesome list is a list of awesome things cu...</td>\n",
       "      <td>https://github.com/topics/awesome</td>\n",
       "    </tr>\n",
       "    <tr>\n",
       "      <th>12</th>\n",
       "      <td>Amazon Web Services</td>\n",
       "      <td>Amazon Web Services provides on-demand cloud c...</td>\n",
       "      <td>https://github.com/topics/aws</td>\n",
       "    </tr>\n",
       "    <tr>\n",
       "      <th>13</th>\n",
       "      <td>Azure</td>\n",
       "      <td>Azure is a cloud computing service created by ...</td>\n",
       "      <td>https://github.com/topics/azure</td>\n",
       "    </tr>\n",
       "    <tr>\n",
       "      <th>14</th>\n",
       "      <td>Babel</td>\n",
       "      <td>Babel is a compiler for writing next generatio...</td>\n",
       "      <td>https://github.com/topics/babel</td>\n",
       "    </tr>\n",
       "    <tr>\n",
       "      <th>15</th>\n",
       "      <td>Bash</td>\n",
       "      <td>Bash is a shell and command language interpret...</td>\n",
       "      <td>https://github.com/topics/bash</td>\n",
       "    </tr>\n",
       "    <tr>\n",
       "      <th>16</th>\n",
       "      <td>Bitcoin</td>\n",
       "      <td>Bitcoin is a cryptocurrency developed by Satos...</td>\n",
       "      <td>https://github.com/topics/bitcoin</td>\n",
       "    </tr>\n",
       "    <tr>\n",
       "      <th>17</th>\n",
       "      <td>Bootstrap</td>\n",
       "      <td>Bootstrap is an HTML, CSS, and JavaScript fram...</td>\n",
       "      <td>https://github.com/topics/bootstrap</td>\n",
       "    </tr>\n",
       "    <tr>\n",
       "      <th>18</th>\n",
       "      <td>Bot</td>\n",
       "      <td>A bot is an application that runs automated ta...</td>\n",
       "      <td>https://github.com/topics/bot</td>\n",
       "    </tr>\n",
       "    <tr>\n",
       "      <th>19</th>\n",
       "      <td>C</td>\n",
       "      <td>C is a general purpose programming language th...</td>\n",
       "      <td>https://github.com/topics/c</td>\n",
       "    </tr>\n",
       "    <tr>\n",
       "      <th>20</th>\n",
       "      <td>Chrome</td>\n",
       "      <td>Chrome is a web browser from the tech company ...</td>\n",
       "      <td>https://github.com/topics/chrome</td>\n",
       "    </tr>\n",
       "    <tr>\n",
       "      <th>21</th>\n",
       "      <td>Chrome extension</td>\n",
       "      <td>Google Chrome Extensions are add-ons that allo...</td>\n",
       "      <td>https://github.com/topics/chrome-extension</td>\n",
       "    </tr>\n",
       "    <tr>\n",
       "      <th>22</th>\n",
       "      <td>Command line interface</td>\n",
       "      <td>A CLI, or command-line interface, is a console...</td>\n",
       "      <td>https://github.com/topics/cli</td>\n",
       "    </tr>\n",
       "    <tr>\n",
       "      <th>23</th>\n",
       "      <td>Clojure</td>\n",
       "      <td>Clojure is a dynamic, general-purpose programm...</td>\n",
       "      <td>https://github.com/topics/clojure</td>\n",
       "    </tr>\n",
       "    <tr>\n",
       "      <th>24</th>\n",
       "      <td>Code quality</td>\n",
       "      <td>Automate your code review with style, quality,...</td>\n",
       "      <td>https://github.com/topics/code-quality</td>\n",
       "    </tr>\n",
       "    <tr>\n",
       "      <th>25</th>\n",
       "      <td>Code review</td>\n",
       "      <td>Ensure your code meets quality standards and s...</td>\n",
       "      <td>https://github.com/topics/code-review</td>\n",
       "    </tr>\n",
       "    <tr>\n",
       "      <th>26</th>\n",
       "      <td>Compiler</td>\n",
       "      <td>Compilers are software that translate higher-l...</td>\n",
       "      <td>https://github.com/topics/compiler</td>\n",
       "    </tr>\n",
       "    <tr>\n",
       "      <th>27</th>\n",
       "      <td>Continuous integration</td>\n",
       "      <td>Automatically build and test your code as you ...</td>\n",
       "      <td>https://github.com/topics/continuous-integration</td>\n",
       "    </tr>\n",
       "    <tr>\n",
       "      <th>28</th>\n",
       "      <td>COVID-19</td>\n",
       "      <td>The coronavirus disease 2019 (COVID-19) is an ...</td>\n",
       "      <td>https://github.com/topics/covid-19</td>\n",
       "    </tr>\n",
       "    <tr>\n",
       "      <th>29</th>\n",
       "      <td>C++</td>\n",
       "      <td>C++ is a general purpose and object-oriented p...</td>\n",
       "      <td>https://github.com/topics/cpp</td>\n",
       "    </tr>\n",
       "  </tbody>\n",
       "</table>\n",
       "</div>"
      ],
      "text/plain": [
       "                     title                                        description  \\\n",
       "0                       3D  3D modeling is the process of virtually develo...   \n",
       "1                     Ajax  Ajax is a technique for creating interactive w...   \n",
       "2                Algorithm  Algorithms are self-contained sequences that c...   \n",
       "3                      Amp  Amp is a non-blocking concurrency library for ...   \n",
       "4                  Android  Android is an operating system built by Google...   \n",
       "5                  Angular  Angular is an open source web application plat...   \n",
       "6                  Ansible  Ansible is a simple and powerful automation en...   \n",
       "7                      API  An API (Application Programming Interface) is ...   \n",
       "8                  Arduino  Arduino is an open source hardware and softwar...   \n",
       "9                  ASP.NET  ASP.NET is a web framework for building modern...   \n",
       "10                    Atom  Atom is a open source text editor built with w...   \n",
       "11           Awesome Lists  An awesome list is a list of awesome things cu...   \n",
       "12     Amazon Web Services  Amazon Web Services provides on-demand cloud c...   \n",
       "13                   Azure  Azure is a cloud computing service created by ...   \n",
       "14                   Babel  Babel is a compiler for writing next generatio...   \n",
       "15                    Bash  Bash is a shell and command language interpret...   \n",
       "16                 Bitcoin  Bitcoin is a cryptocurrency developed by Satos...   \n",
       "17               Bootstrap  Bootstrap is an HTML, CSS, and JavaScript fram...   \n",
       "18                     Bot  A bot is an application that runs automated ta...   \n",
       "19                       C  C is a general purpose programming language th...   \n",
       "20                  Chrome  Chrome is a web browser from the tech company ...   \n",
       "21        Chrome extension  Google Chrome Extensions are add-ons that allo...   \n",
       "22  Command line interface  A CLI, or command-line interface, is a console...   \n",
       "23                 Clojure  Clojure is a dynamic, general-purpose programm...   \n",
       "24            Code quality  Automate your code review with style, quality,...   \n",
       "25             Code review  Ensure your code meets quality standards and s...   \n",
       "26                Compiler  Compilers are software that translate higher-l...   \n",
       "27  Continuous integration  Automatically build and test your code as you ...   \n",
       "28                COVID-19  The coronavirus disease 2019 (COVID-19) is an ...   \n",
       "29                     C++  C++ is a general purpose and object-oriented p...   \n",
       "\n",
       "                                                 url  \n",
       "0                       https://github.com/topics/3d  \n",
       "1                     https://github.com/topics/ajax  \n",
       "2                https://github.com/topics/algorithm  \n",
       "3                    https://github.com/topics/amphp  \n",
       "4                  https://github.com/topics/android  \n",
       "5                  https://github.com/topics/angular  \n",
       "6                  https://github.com/topics/ansible  \n",
       "7                      https://github.com/topics/api  \n",
       "8                  https://github.com/topics/arduino  \n",
       "9                   https://github.com/topics/aspnet  \n",
       "10                    https://github.com/topics/atom  \n",
       "11                 https://github.com/topics/awesome  \n",
       "12                     https://github.com/topics/aws  \n",
       "13                   https://github.com/topics/azure  \n",
       "14                   https://github.com/topics/babel  \n",
       "15                    https://github.com/topics/bash  \n",
       "16                 https://github.com/topics/bitcoin  \n",
       "17               https://github.com/topics/bootstrap  \n",
       "18                     https://github.com/topics/bot  \n",
       "19                       https://github.com/topics/c  \n",
       "20                  https://github.com/topics/chrome  \n",
       "21        https://github.com/topics/chrome-extension  \n",
       "22                     https://github.com/topics/cli  \n",
       "23                 https://github.com/topics/clojure  \n",
       "24            https://github.com/topics/code-quality  \n",
       "25             https://github.com/topics/code-review  \n",
       "26                https://github.com/topics/compiler  \n",
       "27  https://github.com/topics/continuous-integration  \n",
       "28                https://github.com/topics/covid-19  \n",
       "29                     https://github.com/topics/cpp  "
      ]
     },
     "execution_count": 62,
     "metadata": {},
     "output_type": "execute_result"
    }
   ],
   "source": [
    "scrape_topics()"
   ]
  },
  {
   "cell_type": "code",
   "execution_count": 63,
   "id": "05735c55",
   "metadata": {},
   "outputs": [],
   "source": [
    "def scrape_topics_repos():\n",
    "    print(\"Scraping list of topics\")\n",
    "    topics_df=scrape_topics()\n",
    "    os.makedirs('data', exist_ok=True)\n",
    "    for index,row in topics_df.iterrows():\n",
    "        print(f\"Scraping top repositories for {row['title']}\")\n",
    "        scrape_topic(row['url'],\"data/{}.csv\".format(row['title']))\n",
    "    print('\\nDone!!!')"
   ]
  },
  {
   "cell_type": "code",
   "execution_count": 64,
   "id": "ec62ba8c",
   "metadata": {},
   "outputs": [
    {
     "name": "stdout",
     "output_type": "stream",
     "text": [
      "Scraping list of topics\n",
      "Scraping top repositories for 3D\n",
      "The file data/3D.csv already exists. Skipping...\n",
      "Scraping top repositories for Ajax\n",
      "The file data/Ajax.csv already exists. Skipping...\n",
      "Scraping top repositories for Algorithm\n",
      "The file data/Algorithm.csv already exists. Skipping...\n",
      "Scraping top repositories for Amp\n",
      "The file data/Amp.csv already exists. Skipping...\n",
      "Scraping top repositories for Android\n",
      "The file data/Android.csv already exists. Skipping...\n",
      "Scraping top repositories for Angular\n",
      "The file data/Angular.csv already exists. Skipping...\n",
      "Scraping top repositories for Ansible\n",
      "The file data/Ansible.csv already exists. Skipping...\n",
      "Scraping top repositories for API\n",
      "The file data/API.csv already exists. Skipping...\n",
      "Scraping top repositories for Arduino\n",
      "The file data/Arduino.csv already exists. Skipping...\n",
      "Scraping top repositories for ASP.NET\n",
      "The file data/ASP.NET.csv already exists. Skipping...\n",
      "Scraping top repositories for Atom\n",
      "The file data/Atom.csv already exists. Skipping...\n",
      "Scraping top repositories for Awesome Lists\n",
      "The file data/Awesome Lists.csv already exists. Skipping...\n",
      "Scraping top repositories for Amazon Web Services\n",
      "The file data/Amazon Web Services.csv already exists. Skipping...\n",
      "Scraping top repositories for Azure\n",
      "The file data/Azure.csv already exists. Skipping...\n",
      "Scraping top repositories for Babel\n",
      "The file data/Babel.csv already exists. Skipping...\n",
      "Scraping top repositories for Bash\n",
      "The file data/Bash.csv already exists. Skipping...\n",
      "Scraping top repositories for Bitcoin\n",
      "The file data/Bitcoin.csv already exists. Skipping...\n",
      "Scraping top repositories for Bootstrap\n",
      "The file data/Bootstrap.csv already exists. Skipping...\n",
      "Scraping top repositories for Bot\n",
      "The file data/Bot.csv already exists. Skipping...\n",
      "Scraping top repositories for C\n",
      "The file data/C.csv already exists. Skipping...\n",
      "Scraping top repositories for Chrome\n",
      "The file data/Chrome.csv already exists. Skipping...\n",
      "Scraping top repositories for Chrome extension\n",
      "The file data/Chrome extension.csv already exists. Skipping...\n",
      "Scraping top repositories for Command line interface\n",
      "The file data/Command line interface.csv already exists. Skipping...\n",
      "Scraping top repositories for Clojure\n",
      "The file data/Clojure.csv already exists. Skipping...\n",
      "Scraping top repositories for Code quality\n",
      "The file data/Code quality.csv already exists. Skipping...\n",
      "Scraping top repositories for Code review\n",
      "The file data/Code review.csv already exists. Skipping...\n",
      "Scraping top repositories for Compiler\n",
      "The file data/Compiler.csv already exists. Skipping...\n",
      "Scraping top repositories for Continuous integration\n",
      "The file data/Continuous integration.csv already exists. Skipping...\n",
      "Scraping top repositories for COVID-19\n",
      "The file data/COVID-19.csv already exists. Skipping...\n",
      "Scraping top repositories for C++\n",
      "The file data/C++.csv already exists. Skipping...\n",
      "\n",
      "Done!!!\n"
     ]
    }
   ],
   "source": [
    "scrape_topics_repos()"
   ]
  }
 ],
 "metadata": {
  "kernelspec": {
   "display_name": "Python 3 (ipykernel)",
   "language": "python",
   "name": "python3"
  },
  "language_info": {
   "codemirror_mode": {
    "name": "ipython",
    "version": 3
   },
   "file_extension": ".py",
   "mimetype": "text/x-python",
   "name": "python",
   "nbconvert_exporter": "python",
   "pygments_lexer": "ipython3",
   "version": "3.10.6"
  }
 },
 "nbformat": 4,
 "nbformat_minor": 5
}
